{
 "cells": [
  {
   "cell_type": "markdown",
   "metadata": {},
   "source": [
    "# Регулярные выражения. Задания"
   ]
  },
  {
   "cell_type": "code",
   "execution_count": 1,
   "metadata": {},
   "outputs": [],
   "source": [
    "import re"
   ]
  },
  {
   "cell_type": "markdown",
   "metadata": {},
   "source": [
    "1) Дана строка 'aaa--bbb==ccc__ddd'. Написать регулярное выражение для разбивки строки на список ['aaa','bbb','ccc','ddd']."
   ]
  },
  {
   "cell_type": "code",
   "execution_count": 2,
   "metadata": {},
   "outputs": [
    {
     "data": {
      "text/plain": [
       "['aaa', 'bbb', 'ccc', 'ddd']"
      ]
     },
     "execution_count": 2,
     "metadata": {},
     "output_type": "execute_result"
    }
   ],
   "source": [
    "re.split(r\"--|==|__\", 'aaa--bbb==ccc__ddd')"
   ]
  },
  {
   "cell_type": "markdown",
   "metadata": {},
   "source": [
    "2) Получить первое слово из произвольной строки. Например, для 'Yesterday, All my troubles seemed so far away' должно возвращаться 'Yesterday'."
   ]
  },
  {
   "cell_type": "code",
   "execution_count": 3,
   "metadata": {},
   "outputs": [
    {
     "name": "stdout",
     "output_type": "stream",
     "text": [
      "['Yesterday']\n"
     ]
    }
   ],
   "source": [
    "s = 'Yesterday, All my troubles seemed so far away'\n",
    "p = re.compile(r'^[\\w]+')\n",
    "print(p.findall(s))"
   ]
  },
  {
   "cell_type": "markdown",
   "metadata": {},
   "source": [
    "3) Получить последнее слово из произвольной строки."
   ]
  },
  {
   "cell_type": "code",
   "execution_count": 4,
   "metadata": {},
   "outputs": [
    {
     "name": "stdout",
     "output_type": "stream",
     "text": [
      "['away']\n"
     ]
    }
   ],
   "source": [
    "s = 'Yesterday, All my troubles seemed so far away'\n",
    "p = re.compile(r'[\\w]+$')\n",
    "print(p.findall(s))"
   ]
  },
  {
   "cell_type": "markdown",
   "metadata": {},
   "source": [
    "4) В следующем отрывке найти все слова, которые начинаются на гласную букву:"
   ]
  },
  {
   "cell_type": "code",
   "execution_count": 5,
   "metadata": {},
   "outputs": [
    {
     "name": "stdout",
     "output_type": "stream",
     "text": [
      "['uncle', 'ideals', 'inspire', 'one', 'admire', 'and', 'a', 'others', 'example', 'attendance', 'and', 'and', 'a', 'away']\n"
     ]
    }
   ],
   "source": [
    "s= '''My uncle -- high ideals inspire him;\n",
    "but when past joking he fell sick,\n",
    "he really forced one to admire him --\n",
    "and never played a shrewder trick.\n",
    "Let others learn from his example!\n",
    "But God, how deadly dull to sample\n",
    "sickroom attendance night and day\n",
    "and never stir a foot away!'''\n",
    "\n",
    "k = re.compile(r\"\\b[eyuioaEYUIOA][\\w]*\")\n",
    "\n",
    "p = re.findall(k, s)\n",
    "print(p)"
   ]
  },
  {
   "cell_type": "markdown",
   "metadata": {},
   "source": [
    "5) В этом же отрывке найти первое слово каждой строки"
   ]
  },
  {
   "cell_type": "code",
   "execution_count": 6,
   "metadata": {},
   "outputs": [
    {
     "name": "stdout",
     "output_type": "stream",
     "text": [
      "['My', 'but', 'he', 'and', 'Let', 'But', 'sickroom', 'and']\n"
     ]
    }
   ],
   "source": [
    "s= '''My uncle -- high ideals inspire him;\n",
    "but when past joking he fell sick,\n",
    "he really forced one to admire him --\n",
    "and never played a shrewder trick.\n",
    "Let others learn from his example!\n",
    "But God, how deadly dull to sample\n",
    "sickroom attendance night and day\n",
    "and never stir a foot away!'''\n",
    "\n",
    "\n",
    "\n",
    "k = re.compile(r\"(?:(?:[\\n][\\w]*)|(?:^[\\w]+))\")\n",
    "p = re.findall(k, s)\n",
    "print([i[1:] if \"\\n\" in i else i for i in p])"
   ]
  },
  {
   "cell_type": "markdown",
   "metadata": {},
   "source": [
    "6) Проверить корректность введенного E-mail"
   ]
  },
  {
   "cell_type": "code",
   "execution_count": 7,
   "metadata": {},
   "outputs": [
    {
     "name": "stdout",
     "output_type": "stream",
     "text": [
      "Введено правильно\n"
     ]
    }
   ],
   "source": [
    "e_mail = \"kiziackov.d@yandex.ru\"\n",
    "p = re.compile(r\"[^\\s@]+[@][\\w]+[.][\\w]+\")\n",
    "if p.match(e_mail):\n",
    "    print('Введено правильно')\n",
    "else: \n",
    "    print('Введено неправильно')"
   ]
  },
  {
   "cell_type": "markdown",
   "metadata": {},
   "source": [
    "7) В следующей строке найти все email-адреса и вывести только доменные имена"
   ]
  },
  {
   "cell_type": "code",
   "execution_count": 8,
   "metadata": {},
   "outputs": [
    {
     "name": "stdout",
     "output_type": "stream",
     "text": [
      "['yandex1', 'yandex2', 'yandex3', 'yandex4']\n"
     ]
    }
   ],
   "source": [
    "e_mail_string = \"kiziackov.d@yandex1.rukiziackov.d@yandex2.rukiziackov.d@yandex3.rukiziackov.d@yandex4.ru\"\n",
    "k = re.compile(r\"[@][\\w]+[.]\")\n",
    "p = re.findall(k, e_mail_string)\n",
    "print([i[1:-1] for i in p])"
   ]
  },
  {
   "cell_type": "markdown",
   "metadata": {},
   "source": [
    "8) Проверить корректность введенного номера мобильного телефона. Корректными считаются: <br>\n",
    "+7(999)999-99-99  <br>\n",
    "+7 (999) 999-99-99  <br>\n",
    "+7 999 999-99-99 <br>\n",
    "+7 999 999 99 99 <br>\n",
    "+79999999999"
   ]
  },
  {
   "cell_type": "code",
   "execution_count": 9,
   "metadata": {},
   "outputs": [
    {
     "name": "stdout",
     "output_type": "stream",
     "text": [
      "Введено правильно\n"
     ]
    }
   ],
   "source": [
    "nomber = \"+79999999999\"\n",
    "p = re.compile(r\"[+][7](([(][\\d]{3}[)][\\d]{3}[-][\\d]{2}[-][\\d]{2})|([^\\S][(][\\d]{3}[)][^\\S][\\d]{3}[-][\\d]{2}[-][\\d]{2})|([^\\S][\\d]{3}[^\\S][\\d]{3}[-][\\d]{2}[-][\\d]{2})|([^\\S][\\d]{3}[^\\S][\\d]{3}[^\\S][\\d]{2}[^\\S][\\d]{2})|([\\d]{10}))\")\n",
    "if p.match(nomber):\n",
    "    print('Введено правильно')\n",
    "else: \n",
    "    print('Введено неправильно')"
   ]
  }
 ],
 "metadata": {
  "kernelspec": {
   "display_name": "Python 3",
   "language": "python",
   "name": "python3"
  },
  "language_info": {
   "codemirror_mode": {
    "name": "ipython",
    "version": 3
   },
   "file_extension": ".py",
   "mimetype": "text/x-python",
   "name": "python",
   "nbconvert_exporter": "python",
   "pygments_lexer": "ipython3",
   "version": "3.8.3"
  }
 },
 "nbformat": 4,
 "nbformat_minor": 2
}
