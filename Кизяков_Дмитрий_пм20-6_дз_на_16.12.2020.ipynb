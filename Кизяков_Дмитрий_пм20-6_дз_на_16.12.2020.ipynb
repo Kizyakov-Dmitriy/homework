{
 "cells": [
  {
   "cell_type": "code",
   "execution_count": 18,
   "metadata": {},
   "outputs": [],
   "source": [
    "def ex1(point1, point2):\n",
    "    assert type(point1) == tuple or type(point2) == tuple, \"не правильный тип входных данных\"\n",
    "    assert type(point1[0]) == (int or float) and type(point1[1]) == (int or float), \"неправильный тип данных второй точки\"\n",
    "    assert type(point2[0]) == (int or float) and type(point2[1]) == (int or float), \"неправильный тип данных второй точки\"\n",
    "    assert len(point1) == 2 and len(point2) == 2, \"неправильная длина картежа\" \n",
    "    k = (point2[1] - point1[1]) / (point2[0] - point1[0])\n",
    "    b = (point1[0] * point2[1] - point2[0] * point2[1]) / (point2[0] - point1[0])\n",
    "    if b > 0:\n",
    "        return f\"y = {k}x + {b}\"\n",
    "    else:\n",
    "        return f\"y = {k}x + {-b}\""
   ]
  },
  {
   "cell_type": "code",
   "execution_count": 2,
   "metadata": {},
   "outputs": [],
   "source": [
    "def ex2(p, n, Boolean = False, ms = None):    \n",
    "    if type(Boolean) == int:\n",
    "        ms = Boolean\n",
    "        Boolean = False\n",
    "    assert type(ms) == int, \"Недостаточно данных\"\n",
    "    try:\n",
    "        if Boolean:\n",
    "            return (12 * ms * (1 + p) ** (n - 1)) / (p * (1 + p) ** n)\n",
    "        else:\n",
    "            return (ms * p * (1 + p) ** n) / (12 * (1 + p) ** (n - 1))\n",
    "    except TypeError:\n",
    "        return \"некорректный ввод данных\""
   ]
  },
  {
   "cell_type": "code",
   "execution_count": 3,
   "metadata": {},
   "outputs": [],
   "source": [
    "def ex3_1(lst1, lst2):\n",
    "    lst3 = []\n",
    "    for i in lst1:\n",
    "        if i in lst2:\n",
    "            lst3.append(i)\n",
    "    return lst3\n",
    "    \n",
    "def ex3_2(lst1, lst2):\n",
    "    lst3 = [i for i in lst1 if i in lst2]\n",
    "    return lst3\n",
    "\n",
    "ex3_3 = lambda lst1, lst2: [i for i in lst1 if i in lst2]"
   ]
  },
  {
   "cell_type": "code",
   "execution_count": 4,
   "metadata": {},
   "outputs": [],
   "source": [
    "def ex4(string):\n",
    "    lst = sorted(string.split(), key=lambda s: len(s))\n",
    "    resault = \"\"\n",
    "    for i in lst:\n",
    "        resault += i + \" \"\n",
    "    return resault[:-1]"
   ]
  },
  {
   "cell_type": "code",
   "execution_count": 5,
   "metadata": {},
   "outputs": [],
   "source": [
    "ex5 = lambda lst: {i: lst.count(i)  for i in set(lst) if lst.count(i) > 1}"
   ]
  },
  {
   "cell_type": "code",
   "execution_count": 19,
   "metadata": {},
   "outputs": [
    {
     "name": "stdout",
     "output_type": "stream",
     "text": [
      "y = 1.0x + 0.0\n"
     ]
    }
   ],
   "source": [
    "print(ex1((2, 1), (1, 0)))"
   ]
  }
 ],
 "metadata": {
  "kernelspec": {
   "display_name": "Python 3",
   "language": "python",
   "name": "python3"
  },
  "language_info": {
   "codemirror_mode": {
    "name": "ipython",
    "version": 3
   },
   "file_extension": ".py",
   "mimetype": "text/x-python",
   "name": "python",
   "nbconvert_exporter": "python",
   "pygments_lexer": "ipython3",
   "version": "3.8.3"
  }
 },
 "nbformat": 4,
 "nbformat_minor": 4
}
